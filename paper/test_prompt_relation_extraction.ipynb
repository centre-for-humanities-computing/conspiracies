{
 "cells": [
  {
   "attachments": {},
   "cell_type": "markdown",
   "metadata": {},
   "source": [
    "## Prompt-based Relation Extraction\n",
    "Test how to perform prompt-based relation extraction. Assumed conspiracies is installed\n",
    "and that we are currently working on Grundtvig.\n"
   ]
  },
  {
   "attachments": {},
   "cell_type": "markdown",
   "metadata": {},
   "source": [
    "## Create Pipeline\n",
    "As the examples are already coref resolved we do not need a tweet id. Assumed you have\n",
    "the `da_core_news_trf` model installed. If not, run the following command in your terminal:\n",
    "\n",
    "```bash\n",
    "spacy download da_core_news_trf\n",
    "```"
   ]
  },
  {
   "cell_type": "code",
   "execution_count": 1,
   "metadata": {},
   "outputs": [
    {
     "name": "stderr",
     "output_type": "stream",
     "text": [
      "/home/kenneth/.Envs/conspiracies/lib/python3.9/site-packages/tqdm/auto.py:22: TqdmWarning: IProgress not found. Please update jupyter and ipywidgets. See https://ipywidgets.readthedocs.io/en/stable/user_install.html\n",
      "  from .autonotebook import tqdm as notebook_tqdm\n"
     ]
    }
   ],
   "source": [
    "from data import load_api_key\n",
    "import spacy\n",
    "\n",
    "nlp = spacy.load(\"da_core_news_trf\")\n",
    "config = {\n",
    "    \"prompt_template\": \"conspiracies/template_1\",\n",
    "    \"examples\": None,\n",
    "    \"task_description\": None,\n",
    "    \"model_name\": \"text-davinci-002\",\n",
    "    \"backend\": \"conspiracies/openai_gpt3_api\",\n",
    "    \"api_key\": load_api_key(),\n",
    "    \"split_doc_fn\": None,\n",
    "    \"api_kwargs\": {\n",
    "        \"max_tokens\": 500,\n",
    "        \"temperature\": 0.7,\n",
    "        \"top_p\": 1,\n",
    "        \"frequency_penalty\": 0,\n",
    "        \"presence_penalty\": 0,\n",
    "    },\n",
    "    \"force\": True,\n",
    "}\n",
    "\n",
    "relation_component = nlp.add_pipe(\n",
    "    \"conspiracies/prompt_relation_extraction\", last=True, config=config\n",
    ")"
   ]
  },
  {
   "attachments": {},
   "cell_type": "markdown",
   "metadata": {},
   "source": [
    "## Load gold triplets"
   ]
  },
  {
   "cell_type": "code",
   "execution_count": 11,
   "metadata": {},
   "outputs": [],
   "source": [
    "from data import load_gold_triplets\n",
    "\n",
    "gold_docs = load_gold_triplets(nlp=nlp)\n",
    "\n",
    "examples = gold_docs[:5]\n",
    "gold_docs = gold_docs[5:]\n",
    "\n",
    "# # print an example\n",
    "# print(\"---\")\n",
    "# print(examples[0])\n",
    "# for triplet in examples[0]._.relation_triplets:\n",
    "#     print(\" -\", triplet)"
   ]
  },
  {
   "attachments": {},
   "cell_type": "markdown",
   "metadata": {},
   "source": [
    "## Set examples"
   ]
  },
  {
   "cell_type": "code",
   "execution_count": 3,
   "metadata": {},
   "outputs": [],
   "source": [
    "prompt_template = relation_component.prompt_template\n",
    "prompt_template.examples = examples\n",
    "# print an example prompt\n",
    "# print(prompt_template.create_prompt(\"This is an example of a target tweet\"))"
   ]
  },
  {
   "attachments": {},
   "cell_type": "markdown",
   "metadata": {},
   "source": [
    "## Check that pipeline works"
   ]
  },
  {
   "cell_type": "code",
   "execution_count": 4,
   "metadata": {},
   "outputs": [
    {
     "name": "stdout",
     "output_type": "stream",
     "text": [
      " - subject=This predicate=is object=an example of a target tweet\n"
     ]
    }
   ],
   "source": [
    "doc = nlp(\"This is an example of a target tweet\")\n",
    "for triplet in doc._.relation_triplets:\n",
    "    print(\" -\", triplet)"
   ]
  },
  {
   "attachments": {},
   "cell_type": "markdown",
   "metadata": {},
   "source": [
    "## Run forward pass"
   ]
  },
  {
   "cell_type": "code",
   "execution_count": 5,
   "metadata": {},
   "outputs": [],
   "source": [
    "docs = nlp.pipe([doc.text for doc in gold_docs])\n",
    "docs = list(docs)"
   ]
  },
  {
   "attachments": {},
   "cell_type": "markdown",
   "metadata": {},
   "source": [
    "## Evaluate\n",
    "Evaluate the the model using spacy Examples"
   ]
  },
  {
   "cell_type": "code",
   "execution_count": 6,
   "metadata": {},
   "outputs": [],
   "source": [
    "from spacy.training import Example\n",
    "\n",
    "examples = [\n",
    "    Example(predicted=pred_doc, reference=gold_doc)\n",
    "    for pred_doc, gold_doc in zip(docs, gold_docs)\n",
    "]\n",
    "\n",
    "scores = relation_component.score(examples)"
   ]
  },
  {
   "cell_type": "code",
   "execution_count": 7,
   "metadata": {},
   "outputs": [
    {
     "name": "stdout",
     "output_type": "stream",
     "text": [
      "Scores:\n"
     ]
    },
    {
     "data": {
      "text/plain": [
       "{'exact_span_match_precision': 0.0,\n",
       " 'exact_span_match_recall': 0.0,\n",
       " 'exact_span_match_f1': nan,\n",
       " 'exact_string_match_precision': 0.22727272727272727,\n",
       " 'exact_string_match_recall': 0.125,\n",
       " 'exact_string_match_f1': 0.16129032258064516,\n",
       " 'normalized_span_overlap_precision': 0.0,\n",
       " 'normalized_span_overlap_recall': 0.0,\n",
       " 'normalized_span_overlap_f1': nan,\n",
       " 'normalized_string_overlap_precision': 0.7161045420687514,\n",
       " 'normalized_string_overlap_recall': 0.3938574981378133,\n",
       " 'normalized_string_overlap_f1': 0.5082032234036301,\n",
       " 'n_predictions': 44,\n",
       " 'n_references': 80}"
      ]
     },
     "execution_count": 7,
     "metadata": {},
     "output_type": "execute_result"
    }
   ],
   "source": [
    "print(\"Scores:\")\n",
    "\n",
    "scores.pop(\"sample_scores\")\n",
    "scores"
   ]
  },
  {
   "cell_type": "code",
   "execution_count": 8,
   "metadata": {},
   "outputs": [],
   "source": [
    "# examine an example\n",
    "ref = examples[0].reference\n",
    "pred = examples[0].predicted"
   ]
  },
  {
   "cell_type": "code",
   "execution_count": 9,
   "metadata": {},
   "outputs": [
    {
     "data": {
      "text/html": [
       "<span class=\"tex2jax_ignore\"><div class=\"entities\" style=\"line-height: 2.5; direction: ltr\">@troelsjohnsen: @MZaccarin @PiaOlsen @SFpolitik I den \n",
       "<mark class=\"entity\" style=\"background: #aa9cfc; padding: 0.45em 0.6em; margin: 0 0.25em; line-height: 1; border-radius: 0.35em;\">\n",
       "    rapport\n",
       "    <span style=\"font-size: 0.8em; font-weight: bold; line-height: 1; border-radius: 0.35em; vertical-align: middle; margin-left: 0.5rem\">OBJECT</span>\n",
       "</mark>\n",
       " \n",
       "<mark class=\"entity\" style=\"background: #7aecec; padding: 0.45em 0.6em; margin: 0 0.25em; line-height: 1; border-radius: 0.35em;\">\n",
       "    SSI\n",
       "    <span style=\"font-size: 0.8em; font-weight: bold; line-height: 1; border-radius: 0.35em; vertical-align: middle; margin-left: 0.5rem\">SUBJECT</span>\n",
       "</mark>\n",
       " \n",
       "<mark class=\"entity\" style=\"background: #ff9561; padding: 0.45em 0.6em; margin: 0 0.25em; line-height: 1; border-radius: 0.35em;\">\n",
       "    har udsendt\n",
       "    <span style=\"font-size: 0.8em; font-weight: bold; line-height: 1; border-radius: 0.35em; vertical-align: middle; margin-left: 0.5rem\">PREDICATE</span>\n",
       "</mark>\n",
       " i dag, står der tydeligt at restriktionerne fungerer - dog med et forbehold for de specielle juledage.   Nu er vi tilbage til hverdagen og har endda øget restriktionerne, bl.a. hjemsendelse af skolebørn, restriktionerne vi endnu mangler at se effekten af. https://t.co/Js4COepiHz</div></span>"
      ],
      "text/plain": [
       "<IPython.core.display.HTML object>"
      ]
     },
     "metadata": {},
     "output_type": "display_data"
    },
    {
     "data": {
      "text/html": [
       "<span class=\"tex2jax_ignore\"><div class=\"entities\" style=\"line-height: 2.5; direction: ltr\">@troelsjohnsen: @MZaccarin @PiaOlsen @SFpolitik I den rapport SSI har udsendt i dag, \n",
       "<mark class=\"entity\" style=\"background: #ff9561; padding: 0.45em 0.6em; margin: 0 0.25em; line-height: 1; border-radius: 0.35em;\">\n",
       "    står\n",
       "    <span style=\"font-size: 0.8em; font-weight: bold; line-height: 1; border-radius: 0.35em; vertical-align: middle; margin-left: 0.5rem\">PREDICATE</span>\n",
       "</mark>\n",
       " \n",
       "<mark class=\"entity\" style=\"background: #7aecec; padding: 0.45em 0.6em; margin: 0 0.25em; line-height: 1; border-radius: 0.35em;\">\n",
       "    der\n",
       "    <span style=\"font-size: 0.8em; font-weight: bold; line-height: 1; border-radius: 0.35em; vertical-align: middle; margin-left: 0.5rem\">SUBJECT</span>\n",
       "</mark>\n",
       " \n",
       "<mark class=\"entity\" style=\"background: #aa9cfc; padding: 0.45em 0.6em; margin: 0 0.25em; line-height: 1; border-radius: 0.35em;\">\n",
       "    tydeligt at restriktionerne fungerer\n",
       "    <span style=\"font-size: 0.8em; font-weight: bold; line-height: 1; border-radius: 0.35em; vertical-align: middle; margin-left: 0.5rem\">OBJECT</span>\n",
       "</mark>\n",
       " - dog med et forbehold for de specielle juledage.   Nu er vi tilbage til hverdagen og har endda øget restriktionerne, bl.a. hjemsendelse af skolebørn, restriktionerne vi endnu mangler at se effekten af. https://t.co/Js4COepiHz</div></span>"
      ],
      "text/plain": [
       "<IPython.core.display.HTML object>"
      ]
     },
     "metadata": {},
     "output_type": "display_data"
    },
    {
     "data": {
      "text/html": [
       "<span class=\"tex2jax_ignore\"><div class=\"entities\" style=\"line-height: 2.5; direction: ltr\">@troelsjohnsen: @MZaccarin @PiaOlsen @SFpolitik I den rapport SSI har udsendt i dag, står der tydeligt at restriktionerne fungerer - dog med et forbehold for de specielle juledage.   Nu \n",
       "<mark class=\"entity\" style=\"background: #ff9561; padding: 0.45em 0.6em; margin: 0 0.25em; line-height: 1; border-radius: 0.35em;\">\n",
       "    er\n",
       "    <span style=\"font-size: 0.8em; font-weight: bold; line-height: 1; border-radius: 0.35em; vertical-align: middle; margin-left: 0.5rem\">PREDICATE</span>\n",
       "</mark>\n",
       " \n",
       "<mark class=\"entity\" style=\"background: #7aecec; padding: 0.45em 0.6em; margin: 0 0.25em; line-height: 1; border-radius: 0.35em;\">\n",
       "    vi\n",
       "    <span style=\"font-size: 0.8em; font-weight: bold; line-height: 1; border-radius: 0.35em; vertical-align: middle; margin-left: 0.5rem\">SUBJECT</span>\n",
       "</mark>\n",
       " \n",
       "<mark class=\"entity\" style=\"background: #aa9cfc; padding: 0.45em 0.6em; margin: 0 0.25em; line-height: 1; border-radius: 0.35em;\">\n",
       "    tilbage til hverdagen\n",
       "    <span style=\"font-size: 0.8em; font-weight: bold; line-height: 1; border-radius: 0.35em; vertical-align: middle; margin-left: 0.5rem\">OBJECT</span>\n",
       "</mark>\n",
       " og har endda øget restriktionerne, bl.a. hjemsendelse af skolebørn, restriktionerne vi endnu mangler at se effekten af. https://t.co/Js4COepiHz</div></span>"
      ],
      "text/plain": [
       "<IPython.core.display.HTML object>"
      ]
     },
     "metadata": {},
     "output_type": "display_data"
    },
    {
     "data": {
      "text/html": [
       "<span class=\"tex2jax_ignore\"><div class=\"entities\" style=\"line-height: 2.5; direction: ltr\">@troelsjohnsen: @MZaccarin @PiaOlsen @SFpolitik I den rapport SSI har udsendt i dag, står der tydeligt at restriktionerne fungerer - dog med et forbehold for de specielle juledage.   Nu er \n",
       "<mark class=\"entity\" style=\"background: #7aecec; padding: 0.45em 0.6em; margin: 0 0.25em; line-height: 1; border-radius: 0.35em;\">\n",
       "    vi\n",
       "    <span style=\"font-size: 0.8em; font-weight: bold; line-height: 1; border-radius: 0.35em; vertical-align: middle; margin-left: 0.5rem\">SUBJECT</span>\n",
       "</mark>\n",
       " tilbage til hverdagen og \n",
       "<mark class=\"entity\" style=\"background: #ff9561; padding: 0.45em 0.6em; margin: 0 0.25em; line-height: 1; border-radius: 0.35em;\">\n",
       "    har\n",
       "    <span style=\"font-size: 0.8em; font-weight: bold; line-height: 1; border-radius: 0.35em; vertical-align: middle; margin-left: 0.5rem\">PREDICATE</span>\n",
       "</mark>\n",
       " endda \n",
       "<mark class=\"entity\" style=\"background: #aa9cfc; padding: 0.45em 0.6em; margin: 0 0.25em; line-height: 1; border-radius: 0.35em;\">\n",
       "    øget restriktionerne\n",
       "    <span style=\"font-size: 0.8em; font-weight: bold; line-height: 1; border-radius: 0.35em; vertical-align: middle; margin-left: 0.5rem\">OBJECT</span>\n",
       "</mark>\n",
       ", bl.a. hjemsendelse af skolebørn, restriktionerne vi endnu mangler at se effekten af. https://t.co/Js4COepiHz</div></span>"
      ],
      "text/plain": [
       "<IPython.core.display.HTML object>"
      ]
     },
     "metadata": {},
     "output_type": "display_data"
    },
    {
     "data": {
      "text/html": [
       "<span class=\"tex2jax_ignore\"><div class=\"entities\" style=\"line-height: 2.5; direction: ltr\">@troelsjohnsen: @MZaccarin @PiaOlsen @SFpolitik I den rapport SSI har udsendt i dag, står der tydeligt at restriktionerne fungerer - dog med et forbehold for de specielle juledage.   Nu er vi tilbage til hverdagen og har endda øget restriktionerne, bl.a. hjemsendelse af skolebørn, restriktionerne \n",
       "<mark class=\"entity\" style=\"background: #7aecec; padding: 0.45em 0.6em; margin: 0 0.25em; line-height: 1; border-radius: 0.35em;\">\n",
       "    vi\n",
       "    <span style=\"font-size: 0.8em; font-weight: bold; line-height: 1; border-radius: 0.35em; vertical-align: middle; margin-left: 0.5rem\">SUBJECT</span>\n",
       "</mark>\n",
       " endnu \n",
       "<mark class=\"entity\" style=\"background: #ff9561; padding: 0.45em 0.6em; margin: 0 0.25em; line-height: 1; border-radius: 0.35em;\">\n",
       "    mangler at se\n",
       "    <span style=\"font-size: 0.8em; font-weight: bold; line-height: 1; border-radius: 0.35em; vertical-align: middle; margin-left: 0.5rem\">PREDICATE</span>\n",
       "</mark>\n",
       " \n",
       "<mark class=\"entity\" style=\"background: #aa9cfc; padding: 0.45em 0.6em; margin: 0 0.25em; line-height: 1; border-radius: 0.35em;\">\n",
       "    effekten\n",
       "    <span style=\"font-size: 0.8em; font-weight: bold; line-height: 1; border-radius: 0.35em; vertical-align: middle; margin-left: 0.5rem\">OBJECT</span>\n",
       "</mark>\n",
       " af. https://t.co/Js4COepiHz</div></span>"
      ],
      "text/plain": [
       "<IPython.core.display.HTML object>"
      ]
     },
     "metadata": {},
     "output_type": "display_data"
    }
   ],
   "source": [
    "assert ref.text == pred.text\n",
    "\n",
    "for triplet in ref._.relation_triplets:\n",
    "    triplet.visualize()"
   ]
  },
  {
   "cell_type": "code",
   "execution_count": 10,
   "metadata": {},
   "outputs": [
    {
     "data": {
      "text/html": [
       "<span class=\"tex2jax_ignore\"><div class=\"entities\" style=\"line-height: 2.5; direction: ltr\">@troelsjohnsen: @MZaccarin @PiaOlsen @SFpolitik I den rapport SSI har udsendt i dag, står der tydeligt at restriktionerne fungerer - dog med et forbehold for de specielle juledage.   \n",
       "<mark class=\"entity\" style=\"background: #7aecec; padding: 0.45em 0.6em; margin: 0 0.25em; line-height: 1; border-radius: 0.35em;\">\n",
       "    Nu\n",
       "    <span style=\"font-size: 0.8em; font-weight: bold; line-height: 1; border-radius: 0.35em; vertical-align: middle; margin-left: 0.5rem\">SUBJECT</span>\n",
       "</mark>\n",
       " \n",
       "<mark class=\"entity\" style=\"background: #ff9561; padding: 0.45em 0.6em; margin: 0 0.25em; line-height: 1; border-radius: 0.35em;\">\n",
       "    er vi tilbage\n",
       "    <span style=\"font-size: 0.8em; font-weight: bold; line-height: 1; border-radius: 0.35em; vertical-align: middle; margin-left: 0.5rem\">PREDICATE</span>\n",
       "</mark>\n",
       " \n",
       "<mark class=\"entity\" style=\"background: #aa9cfc; padding: 0.45em 0.6em; margin: 0 0.25em; line-height: 1; border-radius: 0.35em;\">\n",
       "    til hverdagen\n",
       "    <span style=\"font-size: 0.8em; font-weight: bold; line-height: 1; border-radius: 0.35em; vertical-align: middle; margin-left: 0.5rem\">OBJECT</span>\n",
       "</mark>\n",
       " og har endda øget restriktionerne, bl.a. hjemsendelse af skolebørn, restriktionerne vi endnu mangler at se effekten af. https://t.co/Js4COepiHz</div></span>"
      ],
      "text/plain": [
       "<IPython.core.display.HTML object>"
      ]
     },
     "metadata": {},
     "output_type": "display_data"
    }
   ],
   "source": [
    "for triplet in pred._.relation_triplets:\n",
    "    triplet.visualize()"
   ]
  }
 ],
 "metadata": {
  "kernelspec": {
   "display_name": "conspiracies",
   "language": "python",
   "name": "python3"
  },
  "language_info": {
   "codemirror_mode": {
    "name": "ipython",
    "version": 3
   },
   "file_extension": ".py",
   "mimetype": "text/x-python",
   "name": "python",
   "nbconvert_exporter": "python",
   "pygments_lexer": "ipython3",
   "version": "3.9.12"
  },
  "orig_nbformat": 4
 },
 "nbformat": 4,
 "nbformat_minor": 2
}
